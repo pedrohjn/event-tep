{
 "cells": [
  {
   "cell_type": "markdown",
   "metadata": {},
   "source": [
    "### TEP - Resampling datasets"
   ]
  },
  {
   "cell_type": "code",
   "execution_count": 1,
   "metadata": {},
   "outputs": [],
   "source": [
    "import pandas as pd\n",
    "import matplotlib.pyplot as plt\n",
    "import numpy as np\n",
    "import math\n",
    "from glob import glob\n",
    "import datetime"
   ]
  },
  {
   "cell_type": "code",
   "execution_count": 2,
   "metadata": {},
   "outputs": [],
   "source": [
    "def print_new_samples(fault):\n",
    "    percentages = [5,10,20,30,40,50,60,70,80,90,95]\n",
    "    paths = glob('d*_te.dat')\n",
    "    dfs = {}\n",
    "    columns_name = ['Variable_' + str(x) for x in range(1,53)]\n",
    "    for mov in range(0,len(paths)):\n",
    "        data = np.genfromtxt(paths[mov])\n",
    "        dfs[mov] = pd.DataFrame(data=data,columns=columns_name) \n",
    "    \n",
    "    for p in percentages:\n",
    "        for v in range(1,53): \n",
    "\n",
    "                max_v1 = dfs[0].iloc[:,v-1].max()\n",
    "                mean_v1 = dfs[0].iloc[:,v-1].mean()\n",
    "                min_v1 = dfs[0].iloc[:,v-1].min()\n",
    "\n",
    "                        # Percentage UP AND DOWN THE MEAN\n",
    "\n",
    "                mean_up = mean_v1+((p/100)*abs(max_v1-mean_v1))\n",
    "                mean_down = mean_v1-((p/100)*abs(min_v1-mean_v1))\n",
    "                \n",
    "                index1 = dfs[fault][dfs[fault]['Variable_' + str(v)].between(mean_down,mean_up)].index\n",
    "                \n",
    "                dfs[fault].loc[index1,'Variable_' + str(v)] = mean_v1\n",
    "        dfs[fault].to_csv('NEW_'+str(p)+'_d0'+str(fault)+'_te.dat',sep=\" \",index=False, header=False)"
   ]
  },
  {
   "cell_type": "code",
   "execution_count": 3,
   "metadata": {},
   "outputs": [],
   "source": [
    "for x in range(1,22):\n",
    "    \n",
    "    print_new_samples(x)"
   ]
  }
 ],
 "metadata": {
  "kernelspec": {
   "display_name": "Python 3",
   "language": "python",
   "name": "python3"
  },
  "language_info": {
   "codemirror_mode": {
    "name": "ipython",
    "version": 3
   },
   "file_extension": ".py",
   "mimetype": "text/x-python",
   "name": "python",
   "nbconvert_exporter": "python",
   "pygments_lexer": "ipython3",
   "version": "3.7.6"
  }
 },
 "nbformat": 4,
 "nbformat_minor": 2
}
