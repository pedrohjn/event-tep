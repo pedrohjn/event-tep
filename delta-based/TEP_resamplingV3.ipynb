{
 "cells": [
  {
   "cell_type": "code",
   "execution_count": 1,
   "metadata": {},
   "outputs": [],
   "source": [
    "import pandas as pd\n",
    "import matplotlib.pyplot as plt\n",
    "import numpy as np\n",
    "import math\n",
    "from glob import glob\n",
    "import datetime"
   ]
  },
  {
   "cell_type": "markdown",
   "metadata": {},
   "source": [
    "### TEP - Resampling datasets - Threshold method"
   ]
  },
  {
   "cell_type": "code",
   "execution_count": 2,
   "metadata": {},
   "outputs": [],
   "source": [
    "def print_new_samples(fault):\n",
    "    percentages = [5,10,20,30,40,50,60,70,80,90,95]\n",
    "    paths = glob('d*_te.dat')\n",
    "    dfs = {}\n",
    "    columns_name = ['Variable_' + str(x) for x in range(1,53)]\n",
    "    for mov in range(0,len(paths)):\n",
    "        data = np.genfromtxt(paths[mov])\n",
    "        dfs[mov] = pd.DataFrame(data=data,columns=columns_name) \n",
    "    \n",
    "    for p in percentages:\n",
    "        for v in range(1,53): \n",
    "\n",
    "                max_v1 = dfs[0].iloc[:,v-1].max()\n",
    "                mean_v1 = dfs[0].iloc[:,v-1].mean()\n",
    "                min_v1 = dfs[0].iloc[:,v-1].min()\n",
    "\n",
    "                        # Percentage UP AND DOWN THE MEAN\n",
    "\n",
    "                mean_up = mean_v1+((p/100)*abs(max_v1-mean_v1))\n",
    "                mean_down = mean_v1-((p/100)*abs(min_v1-mean_v1))\n",
    "                \n",
    "                \n",
    "\n",
    "\n",
    "                index1 = dfs[fault][dfs[fault]['Variable_' + str(v)].between(mean_down,mean_up)].index\n",
    "                \n",
    "                \n",
    "                dfs[fault].loc[index1,'Variable_' + str(v)] = mean_v1\n",
    "        dfs[fault].to_csv('NEW_'+str(p)+'_d0'+str(fault)+'_te.dat',sep=\" \",index=False, header=False)"
   ]
  },
  {
   "cell_type": "code",
   "execution_count": 3,
   "metadata": {},
   "outputs": [],
   "source": [
    "for x in range(1,22):\n",
    "    \n",
    "    print_new_samples(x)"
   ]
  },
  {
   "cell_type": "markdown",
   "metadata": {},
   "source": [
    "### Testing the generated files"
   ]
  },
  {
   "cell_type": "code",
   "execution_count": 2,
   "metadata": {},
   "outputs": [
    {
     "data": {
      "text/plain": [
       "['NEW_95_d00_te.dat',\n",
       " 'NEW_95_d010_te.dat',\n",
       " 'NEW_95_d011_te.dat',\n",
       " 'NEW_95_d012_te.dat',\n",
       " 'NEW_95_d013_te.dat',\n",
       " 'NEW_95_d014_te.dat',\n",
       " 'NEW_95_d015_te.dat',\n",
       " 'NEW_95_d016_te.dat',\n",
       " 'NEW_95_d017_te.dat',\n",
       " 'NEW_95_d018_te.dat',\n",
       " 'NEW_95_d019_te.dat',\n",
       " 'NEW_95_d01_te.dat',\n",
       " 'NEW_95_d020_te.dat',\n",
       " 'NEW_95_d021_te.dat',\n",
       " 'NEW_95_d02_te.dat',\n",
       " 'NEW_95_d03_te.dat',\n",
       " 'NEW_95_d04_te.dat',\n",
       " 'NEW_95_d05_te.dat',\n",
       " 'NEW_95_d06_te.dat',\n",
       " 'NEW_95_d07_te.dat',\n",
       " 'NEW_95_d08_te.dat',\n",
       " 'NEW_95_d09_te.dat']"
      ]
     },
     "execution_count": 2,
     "metadata": {},
     "output_type": "execute_result"
    }
   ],
   "source": [
    "pathsm = glob('NEW_95_d*_te.dat')\n",
    "pathsm"
   ]
  },
  {
   "cell_type": "code",
   "execution_count": 3,
   "metadata": {},
   "outputs": [
    {
     "data": {
      "image/png": "[encoded data removed]",
      "text/plain": [
       "<Figure size 432x288 with 1 Axes>"
      ]
     },
     "metadata": {
      "needs_background": "light"
     },
     "output_type": "display_data"
    }
   ],
   "source": [
    "pathsm = glob('NEW_95_d*_te.dat')\n",
    "modified = {}\n",
    "columns_name = range(1,53)\n",
    "for mov in range(0,len(pathsm)):\n",
    "    data = np.genfromtxt(pathsm[mov])\n",
    "    modified[mov] = pd.DataFrame(data=data,columns=columns_name)    \n",
    "plt.plot(modified[14].iloc[:,0])\n",
    "plt.show()"
   ]
  },
  {
   "cell_type": "code",
   "execution_count": 10,
   "metadata": {},
   "outputs": [
    {
     "data": {
      "text/plain": [
       "['d00_te.dat',\n",
       " 'd01_te.dat',\n",
       " 'd02_te.dat',\n",
       " 'd03_te.dat',\n",
       " 'd04_te.dat',\n",
       " 'd05_te.dat',\n",
       " 'd06_te.dat',\n",
       " 'd07_te.dat',\n",
       " 'd08_te.dat',\n",
       " 'd09_te.dat',\n",
       " 'd10_te.dat',\n",
       " 'd11_te.dat',\n",
       " 'd12_te.dat',\n",
       " 'd13_te.dat',\n",
       " 'd14_te.dat',\n",
       " 'd15_te.dat',\n",
       " 'd16_te.dat',\n",
       " 'd17_te.dat',\n",
       " 'd18_te.dat',\n",
       " 'd19_te.dat',\n",
       " 'd20_te.dat',\n",
       " 'd21_te.dat']"
      ]
     },
     "execution_count": 10,
     "metadata": {},
     "output_type": "execute_result"
    }
   ],
   "source": [
    "paths = glob('d*_te.dat')\n",
    "paths"
   ]
  },
  {
   "cell_type": "code",
   "execution_count": 119,
   "metadata": {},
   "outputs": [
    {
     "data": {
      "image/png": "[encoded data removed]",
      "text/plain": [
       "<Figure size 432x288 with 1 Axes>"
      ]
     },
     "metadata": {
      "needs_background": "light"
     },
     "output_type": "display_data"
    }
   ],
   "source": [
    "paths = glob('d*_te.dat')\n",
    "original = {}\n",
    "columns_name = range(1,53)\n",
    "for mov in range(0,22):\n",
    "    data = np.genfromtxt(paths[mov])\n",
    "    original[mov] = pd.DataFrame(data=data,columns=columns_name)    \n",
    "plt.plot(original[1].iloc[:,0],'k')\n",
    "plt.show()"
   ]
  },
  {
   "cell_type": "markdown",
   "metadata": {},
   "source": [
    "### TEP - Resampling datasets - Delta method"
   ]
  },
  {
   "cell_type": "code",
   "execution_count": 13,
   "metadata": {},
   "outputs": [],
   "source": [
    "def print_new_samples_delta(fault):\n",
    "    #percentages = [5,10,20,30,40,50,60,70,80,90,95]\n",
    "    percentages = [5,10,20,40,60,80,90,95]\n",
    "    paths = glob('d*_te.dat')\n",
    "    dfs = {}\n",
    "    columns_name = ['Variable_' + str(x) for x in range(1,53)]\n",
    "    for mov in range(0,len(paths)):\n",
    "        data = np.genfromtxt(paths[mov])\n",
    "        dfs[mov] = pd.DataFrame(data=data,columns=columns_name)\n",
    "   \n",
    "    for p in percentages:\n",
    "        \n",
    "        delta = np.zeros((960,52))                          # Initiate delta sample per sample, 960 total samples\n",
    "        m_delta = np.zeros((1,52))                          # Initiate max delta for normal operation, 52 total variables\n",
    "        compress = np.zeros((1,52))                        # Initiate compression rate\n",
    "        \n",
    "        for v in range(0,52):                               # \"For\" all 52 variables of normal operation\n",
    "            for d in range(0,dfs[0].shape[0]-1):            # \"For\" all samples\n",
    "                \n",
    "                delta[d,v] = abs(dfs[0].iloc[d,v]-dfs[0].iloc[d+1,v])  # Calculate all deltas sample per sample\n",
    "            m_delta[0,v] = max(delta[:,v])              #Calculate the biggest delta in normal operation and store\n",
    "            \n",
    "        for v in range(0,52):                               # \"For\" all 52 variables of each fault\n",
    "            count = 0\n",
    "            for d in range(0,dfs[0].shape[0]-1):            # \"For\" all samples\n",
    "                \n",
    "                if abs(dfs[fault].iloc[d,v]-dfs[fault].iloc[d+1,v]) < ((p/100)*m_delta[0,v]): #Calculate per sample fault\n",
    "                    dfs[fault].iloc[d+1,v] = dfs[fault].iloc[d,v]\n",
    "                    count += 1\n",
    "            compress[0,v] =  count/960                       # Compression rate for 'v' variable\n",
    "    \n",
    "        dfs[fault].to_csv('DEL_'+str(p)+'_d0'+str(fault)+'_te.dat',sep=\" \",index=False, header=False)\n",
    "    #return(compress)        #Uncomment this if you want to vizualize compression rate"
   ]
  },
  {
   "cell_type": "code",
   "execution_count": 102,
   "metadata": {},
   "outputs": [],
   "source": [
    "for x in range(1,22):\n",
    "    \n",
    "    print_new_samples_delta(x)"
   ]
  },
  {
   "cell_type": "code",
   "execution_count": 80,
   "metadata": {},
   "outputs": [
    {
     "name": "stdout",
     "output_type": "stream",
     "text": [
      "[[0.821875   0.76458333 0.73020833 0.73854167 0.66770833 0.66458333\n",
      "  0.57604167 0.71875    0.634375   0.82291667 0.559375   0.725\n",
      "  0.54895833 0.72916667 0.765625   0.59166667 0.62083333 0.51458333\n",
      "  0.60208333 0.60729167 0.67083333 0.63333333 0.82708333 0.803125\n",
      "  0.815625   0.8875     0.784375   0.82916667 0.875      0.828125\n",
      "  0.81979167 0.83854167 0.803125   0.78333333 0.89375    0.83541667\n",
      "  0.94583333 0.89166667 0.89583333 0.93229167 0.925      0.81875\n",
      "  0.71875    0.81458333 0.678125   0.65625    0.81666667 0.725\n",
      "  0.765625   0.54270833 0.7375     0.62916667]]\n"
     ]
    },
    {
     "data": {
      "image/png": "[encoded data removed]",
      "text/plain": [
       "<Figure size 432x288 with 1 Axes>"
      ]
     },
     "metadata": {
      "needs_background": "light"
     },
     "output_type": "display_data"
    }
   ],
   "source": [
    "di,com=print_new_samples_delta(1)\n",
    "#lol=pd.DataFrame(di)\n",
    "di.plot(y='Variable_1')\n",
    "print(com)"
   ]
  },
  {
   "cell_type": "markdown",
   "metadata": {},
   "source": [
    "### Testing"
   ]
  },
  {
   "cell_type": "code",
   "execution_count": 111,
   "metadata": {},
   "outputs": [
    {
     "data": {
      "text/plain": [
       "['DEL_95_d010_te.dat',\n",
       " 'DEL_95_d011_te.dat',\n",
       " 'DEL_95_d012_te.dat',\n",
       " 'DEL_95_d013_te.dat',\n",
       " 'DEL_95_d014_te.dat',\n",
       " 'DEL_95_d015_te.dat',\n",
       " 'DEL_95_d016_te.dat',\n",
       " 'DEL_95_d017_te.dat',\n",
       " 'DEL_95_d018_te.dat',\n",
       " 'DEL_95_d019_te.dat',\n",
       " 'DEL_95_d01_te.dat',\n",
       " 'DEL_95_d020_te.dat',\n",
       " 'DEL_95_d021_te.dat',\n",
       " 'DEL_95_d02_te.dat',\n",
       " 'DEL_95_d03_te.dat',\n",
       " 'DEL_95_d04_te.dat',\n",
       " 'DEL_95_d05_te.dat',\n",
       " 'DEL_95_d06_te.dat',\n",
       " 'DEL_95_d07_te.dat',\n",
       " 'DEL_95_d08_te.dat',\n",
       " 'DEL_95_d09_te.dat']"
      ]
     },
     "execution_count": 111,
     "metadata": {},
     "output_type": "execute_result"
    }
   ],
   "source": [
    "pathsm = glob('DEL_95_d*_te.dat')\n",
    "pathsm"
   ]
  },
  {
   "cell_type": "code",
   "execution_count": 104,
   "metadata": {},
   "outputs": [
    {
     "data": {
      "image/png": "[encoded data removed]",
      "text/plain": [
       "<Figure size 460.8x316.8 with 1 Axes>"
      ]
     },
     "metadata": {
      "needs_background": "light"
     },
     "output_type": "display_data"
    }
   ],
   "source": [
    "pathsm = glob('DEL_40_d*_te.dat')\n",
    "modified = {}\n",
    "columns_name = range(1,53)\n",
    "for mov in range(0,len(pathsm)):\n",
    "    data = np.genfromtxt(pathsm[mov])\n",
    "    modified[mov] = pd.DataFrame(data=data,columns=columns_name)    \n",
    "plt.plot(modified[13].iloc[:,0])\n",
    "plt.show()"
   ]
  },
  {
   "cell_type": "code",
   "execution_count": 109,
   "metadata": {},
   "outputs": [
    {
     "data": {
      "text/plain": [
       "'d10_te.dat'"
      ]
     },
     "execution_count": 109,
     "metadata": {},
     "output_type": "execute_result"
    }
   ],
   "source": [
    "paths = glob('d*_te.dat')\n",
    "paths[10]"
   ]
  },
  {
   "cell_type": "code",
   "execution_count": 98,
   "metadata": {},
   "outputs": [
    {
     "data": {
      "image/png": "[encoded data removed]",
      "text/plain": [
       "<Figure size 460.8x316.8 with 1 Axes>"
      ]
     },
     "metadata": {
      "needs_background": "light"
     },
     "output_type": "display_data"
    }
   ],
   "source": [
    "paths = glob('d*_te.dat')\n",
    "original = {}\n",
    "columns_name = range(1,53)\n",
    "for mov in range(0,22):\n",
    "    data = np.genfromtxt(paths[mov])\n",
    "    original[mov] = pd.DataFrame(data=data,columns=columns_name)    \n",
    "plt.plot(original[10].iloc[:,0],'k')\n",
    "plt.show()"
   ]
  },
  {
   "cell_type": "code",
   "execution_count": 108,
   "metadata": {},
   "outputs": [
    {
     "data": {
      "image/png": "[encoded data removed]",
      "text/plain": [
       "<Figure size 1008x360 with 1 Axes>"
      ]
     },
     "metadata": {
      "needs_background": "light"
     },
     "output_type": "display_data"
    }
   ],
   "source": [
    "import matplotlib.pyplot as plt\n",
    "plt.rcParams[\"axes.labelsize\"] = 12\n",
    "\n",
    "plt.figure(figsize=(14,5))\n",
    "\n",
    "plt.plot(modified[13].iloc[:,0],'k',label='data at receving point')\n",
    "#plt.plot(plot_x,plot_yu,'k--')\n",
    "#plt.plot(plot_x,plot_yd,'k--')\n",
    "plt.plot(160,modified[13].iloc[160,0], 'k*',markersize=16,label='fault inception')\n",
    "plt.axis([0, 960,0.1, 0.4])\n",
    "plt.legend(loc='lower right')\n",
    "plt.xlabel('Time slot $k$')\n",
    "plt.ylabel('Output value for $N = 2$')\n",
    "plt.grid()\n",
    "plt.savefig('event-driven2.pdf', bbox_inches='tight', pad_inches=0.1, dpi=600)\n",
    "plt.show()"
   ]
  },
  {
   "cell_type": "markdown",
   "metadata": {},
   "source": [
    "### Samples per time slot"
   ]
  },
  {
   "cell_type": "code",
   "execution_count": 14,
   "metadata": {},
   "outputs": [],
   "source": [
    "diy,slot=print_new_samples_delta(1)"
   ]
  },
  {
   "cell_type": "code",
   "execution_count": 31,
   "metadata": {},
   "outputs": [
    {
     "data": {
      "text/plain": [
       "1.046874999999984"
      ]
     },
     "execution_count": 31,
     "metadata": {},
     "output_type": "execute_result"
    }
   ],
   "source": [
    "(1-diy.mean(axis=1)[0])*52\n"
   ]
  },
  {
   "cell_type": "code",
   "execution_count": 42,
   "metadata": {},
   "outputs": [],
   "source": [
    "#def print_new_samples_delta1(fault):\n",
    "    #percentages = [5,10,20,40,60,80,90,95]\n",
    "for fault in range(1,22):\n",
    "    percentages = [5,10,20,40,60,80,90,95]\n",
    "    paths = glob('d*_te.dat')\n",
    "    dfs = {}\n",
    "    avg = np.zeros((8,21))\n",
    "    columns_name = ['Variable_' + str(x) for x in range(1,53)]\n",
    "    for mov in range(0,len(paths)):\n",
    "        data = np.genfromtxt(paths[mov])\n",
    "        dfs[mov] = pd.DataFrame(data=data,columns=columns_name)\n",
    "    con = 0    \n",
    "    for p in percentages:\n",
    "        \n",
    "        delta = np.zeros((960,52))                          # Initiate delta sample per sample, 960 total samples\n",
    "        m_delta = np.zeros((1,52))                          # Initiate max delta for normal operation, 52 total variables\n",
    "        compress = np.zeros((1,52))                        # Initiate compression rate\n",
    "        trans = np.ones((52,960)) \n",
    "        \n",
    "        for v in range(0,52):                               # \"For\" all 52 variables of normal operation\n",
    "            for d in range(0,dfs[0].shape[0]-1):            # \"For\" all samples\n",
    "                \n",
    "                delta[d,v] = abs(dfs[0].iloc[d,v]-dfs[0].iloc[d+1,v])  # Calculate all deltas sample per sample\n",
    "            m_delta[0,v] = max(delta[:,v])              #Calculate the biggest delta in normal operation and store\n",
    "            \n",
    "        for v in range(0,52):                               # \"For\" all 52 variables of each fault\n",
    "            count = 0\n",
    "            for d in range(0,dfs[0].shape[0]-1):            # \"For\" 960 all samples\n",
    "                \n",
    "                if abs(dfs[fault].iloc[d,v]-dfs[fault].iloc[d+1,v]) < ((p/100)*m_delta[0,v]):#Calculate per sample fault\n",
    "                    dfs[fault].iloc[d+1,v] = dfs[fault].iloc[d,v]\n",
    "                    count += 1\n",
    "                    trans[v,d] =  0  \n",
    "            compress[0,v] =  count/960                       # Compression rate for 'v' variable\n",
    "    \n",
    "        avg[con,fault-1] = trans.sum().mean()\n",
    "        con += 1\n",
    "    compress = pd.DataFrame(compress)\n",
    "    trans = pd.DataFrame(trans)\n",
    "    \n",
    "    #return(compress,trans)        #Uncomment this is you want to vizualize compression rate"
   ]
  },
  {
   "cell_type": "code",
   "execution_count": 43,
   "metadata": {},
   "outputs": [
    {
     "data": {
      "text/html": [
       "<div>\n",
       "<style scoped>\n",
       "    .dataframe tbody tr th:only-of-type {\n",
       "        vertical-align: middle;\n",
       "    }\n",
       "\n",
       "    .dataframe tbody tr th {\n",
       "        vertical-align: top;\n",
       "    }\n",
       "\n",
       "    .dataframe thead th {\n",
       "        text-align: right;\n",
       "    }\n",
       "</style>\n",
       "<table border=\"1\" class=\"dataframe\">\n",
       "  <thead>\n",
       "    <tr style=\"text-align: right;\">\n",
       "      <th></th>\n",
       "      <th>0</th>\n",
       "      <th>1</th>\n",
       "      <th>2</th>\n",
       "      <th>3</th>\n",
       "      <th>4</th>\n",
       "      <th>5</th>\n",
       "      <th>6</th>\n",
       "      <th>7</th>\n",
       "      <th>8</th>\n",
       "      <th>9</th>\n",
       "      <th>...</th>\n",
       "      <th>11</th>\n",
       "      <th>12</th>\n",
       "      <th>13</th>\n",
       "      <th>14</th>\n",
       "      <th>15</th>\n",
       "      <th>16</th>\n",
       "      <th>17</th>\n",
       "      <th>18</th>\n",
       "      <th>19</th>\n",
       "      <th>20</th>\n",
       "    </tr>\n",
       "  </thead>\n",
       "  <tbody>\n",
       "    <tr>\n",
       "      <th>0</th>\n",
       "      <td>0.0</td>\n",
       "      <td>0.0</td>\n",
       "      <td>0.0</td>\n",
       "      <td>0.0</td>\n",
       "      <td>0.0</td>\n",
       "      <td>0.0</td>\n",
       "      <td>0.0</td>\n",
       "      <td>0.0</td>\n",
       "      <td>0.0</td>\n",
       "      <td>0.0</td>\n",
       "      <td>...</td>\n",
       "      <td>0.0</td>\n",
       "      <td>0.0</td>\n",
       "      <td>0.0</td>\n",
       "      <td>0.0</td>\n",
       "      <td>0.0</td>\n",
       "      <td>0.0</td>\n",
       "      <td>0.0</td>\n",
       "      <td>0.0</td>\n",
       "      <td>0.0</td>\n",
       "      <td>31636.0</td>\n",
       "    </tr>\n",
       "    <tr>\n",
       "      <th>1</th>\n",
       "      <td>0.0</td>\n",
       "      <td>0.0</td>\n",
       "      <td>0.0</td>\n",
       "      <td>0.0</td>\n",
       "      <td>0.0</td>\n",
       "      <td>0.0</td>\n",
       "      <td>0.0</td>\n",
       "      <td>0.0</td>\n",
       "      <td>0.0</td>\n",
       "      <td>0.0</td>\n",
       "      <td>...</td>\n",
       "      <td>0.0</td>\n",
       "      <td>0.0</td>\n",
       "      <td>0.0</td>\n",
       "      <td>0.0</td>\n",
       "      <td>0.0</td>\n",
       "      <td>0.0</td>\n",
       "      <td>0.0</td>\n",
       "      <td>0.0</td>\n",
       "      <td>0.0</td>\n",
       "      <td>26296.0</td>\n",
       "    </tr>\n",
       "    <tr>\n",
       "      <th>2</th>\n",
       "      <td>0.0</td>\n",
       "      <td>0.0</td>\n",
       "      <td>0.0</td>\n",
       "      <td>0.0</td>\n",
       "      <td>0.0</td>\n",
       "      <td>0.0</td>\n",
       "      <td>0.0</td>\n",
       "      <td>0.0</td>\n",
       "      <td>0.0</td>\n",
       "      <td>0.0</td>\n",
       "      <td>...</td>\n",
       "      <td>0.0</td>\n",
       "      <td>0.0</td>\n",
       "      <td>0.0</td>\n",
       "      <td>0.0</td>\n",
       "      <td>0.0</td>\n",
       "      <td>0.0</td>\n",
       "      <td>0.0</td>\n",
       "      <td>0.0</td>\n",
       "      <td>0.0</td>\n",
       "      <td>17034.0</td>\n",
       "    </tr>\n",
       "    <tr>\n",
       "      <th>3</th>\n",
       "      <td>0.0</td>\n",
       "      <td>0.0</td>\n",
       "      <td>0.0</td>\n",
       "      <td>0.0</td>\n",
       "      <td>0.0</td>\n",
       "      <td>0.0</td>\n",
       "      <td>0.0</td>\n",
       "      <td>0.0</td>\n",
       "      <td>0.0</td>\n",
       "      <td>0.0</td>\n",
       "      <td>...</td>\n",
       "      <td>0.0</td>\n",
       "      <td>0.0</td>\n",
       "      <td>0.0</td>\n",
       "      <td>0.0</td>\n",
       "      <td>0.0</td>\n",
       "      <td>0.0</td>\n",
       "      <td>0.0</td>\n",
       "      <td>0.0</td>\n",
       "      <td>0.0</td>\n",
       "      <td>5976.0</td>\n",
       "    </tr>\n",
       "    <tr>\n",
       "      <th>4</th>\n",
       "      <td>0.0</td>\n",
       "      <td>0.0</td>\n",
       "      <td>0.0</td>\n",
       "      <td>0.0</td>\n",
       "      <td>0.0</td>\n",
       "      <td>0.0</td>\n",
       "      <td>0.0</td>\n",
       "      <td>0.0</td>\n",
       "      <td>0.0</td>\n",
       "      <td>0.0</td>\n",
       "      <td>...</td>\n",
       "      <td>0.0</td>\n",
       "      <td>0.0</td>\n",
       "      <td>0.0</td>\n",
       "      <td>0.0</td>\n",
       "      <td>0.0</td>\n",
       "      <td>0.0</td>\n",
       "      <td>0.0</td>\n",
       "      <td>0.0</td>\n",
       "      <td>0.0</td>\n",
       "      <td>1357.0</td>\n",
       "    </tr>\n",
       "    <tr>\n",
       "      <th>5</th>\n",
       "      <td>0.0</td>\n",
       "      <td>0.0</td>\n",
       "      <td>0.0</td>\n",
       "      <td>0.0</td>\n",
       "      <td>0.0</td>\n",
       "      <td>0.0</td>\n",
       "      <td>0.0</td>\n",
       "      <td>0.0</td>\n",
       "      <td>0.0</td>\n",
       "      <td>0.0</td>\n",
       "      <td>...</td>\n",
       "      <td>0.0</td>\n",
       "      <td>0.0</td>\n",
       "      <td>0.0</td>\n",
       "      <td>0.0</td>\n",
       "      <td>0.0</td>\n",
       "      <td>0.0</td>\n",
       "      <td>0.0</td>\n",
       "      <td>0.0</td>\n",
       "      <td>0.0</td>\n",
       "      <td>414.0</td>\n",
       "    </tr>\n",
       "    <tr>\n",
       "      <th>6</th>\n",
       "      <td>0.0</td>\n",
       "      <td>0.0</td>\n",
       "      <td>0.0</td>\n",
       "      <td>0.0</td>\n",
       "      <td>0.0</td>\n",
       "      <td>0.0</td>\n",
       "      <td>0.0</td>\n",
       "      <td>0.0</td>\n",
       "      <td>0.0</td>\n",
       "      <td>0.0</td>\n",
       "      <td>...</td>\n",
       "      <td>0.0</td>\n",
       "      <td>0.0</td>\n",
       "      <td>0.0</td>\n",
       "      <td>0.0</td>\n",
       "      <td>0.0</td>\n",
       "      <td>0.0</td>\n",
       "      <td>0.0</td>\n",
       "      <td>0.0</td>\n",
       "      <td>0.0</td>\n",
       "      <td>266.0</td>\n",
       "    </tr>\n",
       "    <tr>\n",
       "      <th>7</th>\n",
       "      <td>0.0</td>\n",
       "      <td>0.0</td>\n",
       "      <td>0.0</td>\n",
       "      <td>0.0</td>\n",
       "      <td>0.0</td>\n",
       "      <td>0.0</td>\n",
       "      <td>0.0</td>\n",
       "      <td>0.0</td>\n",
       "      <td>0.0</td>\n",
       "      <td>0.0</td>\n",
       "      <td>...</td>\n",
       "      <td>0.0</td>\n",
       "      <td>0.0</td>\n",
       "      <td>0.0</td>\n",
       "      <td>0.0</td>\n",
       "      <td>0.0</td>\n",
       "      <td>0.0</td>\n",
       "      <td>0.0</td>\n",
       "      <td>0.0</td>\n",
       "      <td>0.0</td>\n",
       "      <td>233.0</td>\n",
       "    </tr>\n",
       "  </tbody>\n",
       "</table>\n",
       "<p>8 rows × 21 columns</p>\n",
       "</div>"
      ],
      "text/plain": [
       "    0    1    2    3    4    5    6    7    8    9   ...   11   12   13   14  \\\n",
       "0  0.0  0.0  0.0  0.0  0.0  0.0  0.0  0.0  0.0  0.0  ...  0.0  0.0  0.0  0.0   \n",
       "1  0.0  0.0  0.0  0.0  0.0  0.0  0.0  0.0  0.0  0.0  ...  0.0  0.0  0.0  0.0   \n",
       "2  0.0  0.0  0.0  0.0  0.0  0.0  0.0  0.0  0.0  0.0  ...  0.0  0.0  0.0  0.0   \n",
       "3  0.0  0.0  0.0  0.0  0.0  0.0  0.0  0.0  0.0  0.0  ...  0.0  0.0  0.0  0.0   \n",
       "4  0.0  0.0  0.0  0.0  0.0  0.0  0.0  0.0  0.0  0.0  ...  0.0  0.0  0.0  0.0   \n",
       "5  0.0  0.0  0.0  0.0  0.0  0.0  0.0  0.0  0.0  0.0  ...  0.0  0.0  0.0  0.0   \n",
       "6  0.0  0.0  0.0  0.0  0.0  0.0  0.0  0.0  0.0  0.0  ...  0.0  0.0  0.0  0.0   \n",
       "7  0.0  0.0  0.0  0.0  0.0  0.0  0.0  0.0  0.0  0.0  ...  0.0  0.0  0.0  0.0   \n",
       "\n",
       "    15   16   17   18   19       20  \n",
       "0  0.0  0.0  0.0  0.0  0.0  31636.0  \n",
       "1  0.0  0.0  0.0  0.0  0.0  26296.0  \n",
       "2  0.0  0.0  0.0  0.0  0.0  17034.0  \n",
       "3  0.0  0.0  0.0  0.0  0.0   5976.0  \n",
       "4  0.0  0.0  0.0  0.0  0.0   1357.0  \n",
       "5  0.0  0.0  0.0  0.0  0.0    414.0  \n",
       "6  0.0  0.0  0.0  0.0  0.0    266.0  \n",
       "7  0.0  0.0  0.0  0.0  0.0    233.0  \n",
       "\n",
       "[8 rows x 21 columns]"
      ]
     },
     "execution_count": 43,
     "metadata": {},
     "output_type": "execute_result"
    }
   ],
   "source": [
    "pd.DataFrame(avg)"
   ]
  },
  {
   "cell_type": "code",
   "execution_count": 38,
   "metadata": {},
   "outputs": [
    {
     "data": {
      "text/plain": [
       "50.953125"
      ]
     },
     "execution_count": 38,
     "metadata": {},
     "output_type": "execute_result"
    }
   ],
   "source": [
    "trans.sum().mean()"
   ]
  },
  {
   "cell_type": "code",
   "execution_count": 95,
   "metadata": {},
   "outputs": [],
   "source": [
    "Ye = [6533/960,6873/960,7734/960,10913/960,10913/960,17893/960,31026/960,39997/960,49920/960]\n",
    "eX = ['95','90','80','60','40','20','10','05','0']"
   ]
  },
  {
   "cell_type": "code",
   "execution_count": 91,
   "metadata": {},
   "outputs": [
    {
     "name": "stderr",
     "output_type": "stream",
     "text": [
      "No handles with labels found to put in legend.\n"
     ]
    },
    {
     "data": {
      "image/png": "[encoded data removed]",
      "text/plain": [
       "<Figure size 1008x360 with 1 Axes>"
      ]
     },
     "metadata": {
      "needs_background": "light"
     },
     "output_type": "display_data"
    }
   ],
   "source": [
    "import matplotlib.pyplot as plt\n",
    "plt.rcParams[\"axes.labelsize\"] = 10\n",
    "plt.figure(figsize=(14,5))\n",
    "matplotlib.pyplot.xticks(fontsize=10)\n",
    "#graph,index,plot_x,plot_yu,plot_yd = tennessee_resampling('d*_te.dat',variable,fault,percentage)\n",
    "plt.bar(eX,Ye,color='black')\n",
    "#plt.plot(plot_x,plot_yu,'k--')\n",
    "#plt.plot(plot_x,plot_yd,'k--')\n",
    "#plt.plot(160,graph.iloc[160,variable-1], 'k*',markersize=16,label='fault inception')\n",
    "#plt.axis([0, 960,0.1, 0.4])\n",
    "plt.legend(loc='lower right')\n",
    "plt.xlabel('Threshold percentage')\n",
    "plt.ylabel('Average samples transmitted per time slot')\n",
    "plt.grid()\n",
    "plt.savefig('bar1.pdf', bbox_inches='tight', pad_inches=0.1, dpi=600)\n",
    "plt.show()"
   ]
  },
  {
   "cell_type": "code",
   "execution_count": 92,
   "metadata": {},
   "outputs": [],
   "source": [
    "Ye = [233/960,266/960,414/960,1357/960,5976/960,17034/960,26296/960,31636/960,49920/960]\n",
    "eX = ['0','05','10','20','40','60','80','90','95']"
   ]
  },
  {
   "cell_type": "code",
   "execution_count": 96,
   "metadata": {},
   "outputs": [],
   "source": [
    "import matplotlib.pyplot as plt\n",
    "plt.rcParams[\"axes.labelsize\"] = 15\n",
    "lul = [(1-(x/52))*100 for x in Ye]\n",
    "eX = ['95','90','80','60','40','20','10','05','0']"
   ]
  },
  {
   "cell_type": "code",
   "execution_count": 97,
   "metadata": {},
   "outputs": [
    {
     "name": "stderr",
     "output_type": "stream",
     "text": [
      "No handles with labels found to put in legend.\n"
     ]
    },
    {
     "ename": "AttributeError",
     "evalue": "module 'matplotlib.pyplot' has no attribute 'label'",
     "output_type": "error",
     "traceback": [
      "\u001b[1;31m---------------------------------------------------------------------------\u001b[0m",
      "\u001b[1;31mAttributeError\u001b[0m                            Traceback (most recent call last)",
      "\u001b[1;32m<ipython-input-97-8eb472220b3e>\u001b[0m in \u001b[0;36m<module>\u001b[1;34m\u001b[0m\n\u001b[0;32m     20\u001b[0m \u001b[0mplt\u001b[0m\u001b[1;33m.\u001b[0m\u001b[0mgrid\u001b[0m\u001b[1;33m(\u001b[0m\u001b[1;33m)\u001b[0m\u001b[1;33m\u001b[0m\u001b[1;33m\u001b[0m\u001b[0m\n\u001b[0;32m     21\u001b[0m \u001b[0mplt\u001b[0m\u001b[1;33m.\u001b[0m\u001b[0msavefig\u001b[0m\u001b[1;33m(\u001b[0m\u001b[1;34m'compress1.pdf'\u001b[0m\u001b[1;33m,\u001b[0m \u001b[0mbbox_inches\u001b[0m\u001b[1;33m=\u001b[0m\u001b[1;34m'tight'\u001b[0m\u001b[1;33m,\u001b[0m \u001b[0mpad_inches\u001b[0m\u001b[1;33m=\u001b[0m\u001b[1;36m0.1\u001b[0m\u001b[1;33m,\u001b[0m \u001b[0mdpi\u001b[0m\u001b[1;33m=\u001b[0m\u001b[1;36m600\u001b[0m\u001b[1;33m)\u001b[0m\u001b[1;33m\u001b[0m\u001b[1;33m\u001b[0m\u001b[0m\n\u001b[1;32m---> 22\u001b[1;33m \u001b[0mplt\u001b[0m\u001b[1;33m.\u001b[0m\u001b[0mlabel\u001b[0m\u001b[1;33m.\u001b[0m\u001b[0mset_fontsize\u001b[0m\u001b[1;33m(\u001b[0m\u001b[1;36m14\u001b[0m\u001b[1;33m)\u001b[0m\u001b[1;33m\u001b[0m\u001b[1;33m\u001b[0m\u001b[0m\n\u001b[0m\u001b[0;32m     23\u001b[0m \u001b[0mplt\u001b[0m\u001b[1;33m.\u001b[0m\u001b[0mshow\u001b[0m\u001b[1;33m(\u001b[0m\u001b[1;33m)\u001b[0m\u001b[1;33m\u001b[0m\u001b[1;33m\u001b[0m\u001b[0m\n",
      "\u001b[1;31mAttributeError\u001b[0m: module 'matplotlib.pyplot' has no attribute 'label'"
     ]
    },
    {
     "data": {
      "image/png": "[encoded data removed]",
      "text/plain": [
       "<Figure size 460.8x316.8 with 1 Axes>"
      ]
     },
     "metadata": {
      "needs_background": "light"
     },
     "output_type": "display_data"
    },
    {
     "data": {
      "image/png": "[encoded data removed]",
      "text/plain": [
       "<Figure size 1008x360 with 1 Axes>"
      ]
     },
     "metadata": {
      "needs_background": "light"
     },
     "output_type": "display_data"
    }
   ],
   "source": [
    "import matplotlib\n",
    "import matplotlib.pyplot as plt\n",
    "from matplotlib import style\n",
    "style.use('seaborn-paper')\n",
    "plt.rcParams[\"axes.labelsize\"] = 30\n",
    "matplotlib.pyplot.xticks(fontsize=14)\n",
    "\n",
    "plt.figure(figsize=(14,5))\n",
    "#graph,index,plot_x,plot_yu,plot_yd = tennessee_resampling('d*_te.dat',variable,fault,percentage)\n",
    "plt.bar(eX,lul,color='black')\n",
    "matplotlib.pyplot.xticks(fontsize=14)\n",
    "matplotlib.pyplot.yticks(fontsize=14)\n",
    "#plt.plot(plot_x,plot_yu,'k--')\n",
    "#plt.plot(plot_x,plot_yd,'k--')\n",
    "#plt.plot(160,graph.iloc[160,variable-1], 'k*',markersize=16,label='fault inception')\n",
    "#plt.axis([0, 960,0.1, 0.4])\n",
    "plt.legend(loc='lower right')\n",
    "plt.xlabel('Threshold [%]',fontsize=16)\n",
    "plt.ylabel('Compression ratio [%]',fontsize=16)\n",
    "plt.grid()\n",
    "plt.savefig('compress1.pdf', bbox_inches='tight', pad_inches=0.1, dpi=600)\n",
    "plt.label.set_fontsize(14) \n",
    "plt.show()"
   ]
  },
  {
   "cell_type": "code",
   "execution_count": null,
   "metadata": {},
   "outputs": [],
   "source": []
  }
 ],
 "metadata": {
  "kernelspec": {
   "display_name": "Python 3",
   "language": "python",
   "name": "python3"
  },
  "language_info": {
   "codemirror_mode": {
    "name": "ipython",
    "version": 3
   },
   "file_extension": ".py",
   "mimetype": "text/x-python",
   "name": "python",
   "nbconvert_exporter": "python",
   "pygments_lexer": "ipython3",
   "version": "3.7.6"
  }
 },
 "nbformat": 4,
 "nbformat_minor": 2
}
